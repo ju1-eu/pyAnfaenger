{
 "cells": [
  {
   "cell_type": "markdown",
   "source": [
    "# Lists and Arrays in Python"
   ],
   "metadata": {}
  },
  {
   "cell_type": "code",
   "execution_count": 1,
   "source": [
    "import array\n",
    "import numpy as np"
   ],
   "outputs": [],
   "metadata": {}
  },
  {
   "cell_type": "markdown",
   "source": [
    "## Python List"
   ],
   "metadata": {}
  },
  {
   "cell_type": "code",
   "execution_count": 2,
   "source": [
    "my_list = [True, \"Hello\", 42.0, 420, None]\n",
    "\n",
    "print([type(val) for val in my_list])"
   ],
   "outputs": [
    {
     "output_type": "stream",
     "name": "stdout",
     "text": [
      "[<class 'bool'>, <class 'str'>, <class 'float'>, <class 'int'>, <class 'NoneType'>]\n"
     ]
    }
   ],
   "metadata": {
    "collapsed": false
   }
  },
  {
   "cell_type": "markdown",
   "source": [
    "## Python Array"
   ],
   "metadata": {}
  },
  {
   "cell_type": "code",
   "execution_count": 3,
   "source": [
    "my_array_range = list(range(10))\n",
    "my_array = array.array('i', my_array_range)\n",
    "\n",
    "print(my_array)"
   ],
   "outputs": [
    {
     "output_type": "stream",
     "name": "stdout",
     "text": [
      "array('i', [0, 1, 2, 3, 4, 5, 6, 7, 8, 9])\n"
     ]
    }
   ],
   "metadata": {
    "collapsed": false
   }
  },
  {
   "cell_type": "markdown",
   "source": [
    "### Array Dtypes\n",
    "\n",
    "|  |  |  |  |  |\n",
    "|-|-|-|-|-|\n",
    "| Type code | C Type | Python Type | Minimum size in bytes |\n",
    "| 'b' | signed char | int | 1 |\n",
    "| 'B' | unsigned char | int | 1 |\n",
    "| 'u' | wchar_t | Unicode character | 2 |\n",
    "| 'h' | signed short | int | 2 |\n",
    "| 'H' | unsigned short | int | 2 |\n",
    "| 'i' | signed int | int | 2 |\n",
    "| 'I' | unsigned int | int | 2 |\n",
    "| 'l' | signed long | int | 4 |\n",
    "| 'L' | unsigned long | int | 4 |\n",
    "| 'q' | signed long long | int | 8 |\n",
    "| 'Q' | unsigned long long | int | 8 |\n",
    "| 'f' | float | float | 4 |\n",
    "| 'd' | double | float | 8 |"
   ],
   "metadata": {}
  },
  {
   "cell_type": "code",
   "execution_count": 4,
   "source": [
    "my_array_range = list(range(10))\n",
    "my_array = array.array('d', my_array_range)\n",
    "\n",
    "print(my_array)"
   ],
   "outputs": [
    {
     "output_type": "stream",
     "name": "stdout",
     "text": [
      "array('d', [0.0, 1.0, 2.0, 3.0, 4.0, 5.0, 6.0, 7.0, 8.0, 9.0])\n"
     ]
    }
   ],
   "metadata": {}
  },
  {
   "cell_type": "markdown",
   "source": [
    "## Numpy Array"
   ],
   "metadata": {}
  },
  {
   "cell_type": "markdown",
   "source": [
    "NumPy is the fundamental package for scientific computing in Python.  \n",
    "It is a Python library that provides a multidimensional array object, various derived objects, and an assortment of routines for fast operations on arrays.  \n",
    "\n",
    "At the core of the NumPy package, is the ndarray object.  \n",
    "This encapsulates n-dimensional arrays of homogeneous data types, with many operations being performed in compiled code for performance."
   ],
   "metadata": {}
  },
  {
   "cell_type": "code",
   "execution_count": 5,
   "source": [
    "def array_info(array: np.ndarray) -> None:\n",
    "    print(f\"ndim: {array.ndim}\")\n",
    "    print(f\"shape: {array.shape}\")\n",
    "    print(f\"size: {array.size}\")\n",
    "    print(f\"dtype: {array.dtype}\")\n",
    "    print(f\"values:\\n{array}\\n\")"
   ],
   "outputs": [],
   "metadata": {}
  },
  {
   "cell_type": "code",
   "execution_count": 6,
   "source": [
    "my_np_array = np.array([1, 4, 2, 5, 3])\n",
    "array_info(my_np_array)"
   ],
   "outputs": [
    {
     "output_type": "stream",
     "name": "stdout",
     "text": [
      "ndim: 1\n",
      "shape: (5,)\n",
      "size: 5\n",
      "dtype: int64\n",
      "values:\n",
      "[1 4 2 5 3]\n",
      "\n"
     ]
    }
   ],
   "metadata": {
    "collapsed": false
   }
  },
  {
   "cell_type": "code",
   "execution_count": 7,
   "source": [
    "my_np_array = np.array([3.14, 4, 2, 3])\n",
    "array_info(my_np_array)"
   ],
   "outputs": [
    {
     "output_type": "stream",
     "name": "stdout",
     "text": [
      "ndim: 1\n",
      "shape: (4,)\n",
      "size: 4\n",
      "dtype: float64\n",
      "values:\n",
      "[3.14 4.   2.   3.  ]\n",
      "\n"
     ]
    }
   ],
   "metadata": {
    "collapsed": false
   }
  },
  {
   "cell_type": "code",
   "execution_count": 8,
   "source": [
    "my_np_array = np.array([1, 2, 3, 4], dtype='float32')\n",
    "array_info(my_np_array)"
   ],
   "outputs": [
    {
     "output_type": "stream",
     "name": "stdout",
     "text": [
      "ndim: 1\n",
      "shape: (4,)\n",
      "size: 4\n",
      "dtype: float32\n",
      "values:\n",
      "[1. 2. 3. 4.]\n",
      "\n"
     ]
    }
   ],
   "metadata": {
    "collapsed": false
   }
  },
  {
   "cell_type": "markdown",
   "source": [
    "## Intrinsic Arrays"
   ],
   "metadata": {}
  },
  {
   "cell_type": "code",
   "execution_count": 9,
   "source": [
    "my_np_array = np.zeros(shape=10, dtype=int)\n",
    "array_info(my_np_array)"
   ],
   "outputs": [
    {
     "output_type": "stream",
     "name": "stdout",
     "text": [
      "ndim: 1\n",
      "shape: (10,)\n",
      "size: 10\n",
      "dtype: int64\n",
      "values:\n",
      "[0 0 0 0 0 0 0 0 0 0]\n",
      "\n"
     ]
    }
   ],
   "metadata": {
    "collapsed": false
   }
  },
  {
   "cell_type": "code",
   "execution_count": 10,
   "source": [
    "my_np_array = np.ones(shape=(3, 5), dtype=float)\n",
    "array_info(my_np_array)"
   ],
   "outputs": [
    {
     "output_type": "stream",
     "name": "stdout",
     "text": [
      "ndim: 2\n",
      "shape: (3, 5)\n",
      "size: 15\n",
      "dtype: float64\n",
      "values:\n",
      "[[1. 1. 1. 1. 1.]\n",
      " [1. 1. 1. 1. 1.]\n",
      " [1. 1. 1. 1. 1.]]\n",
      "\n"
     ]
    }
   ],
   "metadata": {
    "collapsed": false
   }
  },
  {
   "cell_type": "code",
   "execution_count": 11,
   "source": [
    "my_np_array = np.full(shape=(3, 5), fill_value=3.14)\n",
    "array_info(my_np_array)"
   ],
   "outputs": [
    {
     "output_type": "stream",
     "name": "stdout",
     "text": [
      "ndim: 2\n",
      "shape: (3, 5)\n",
      "size: 15\n",
      "dtype: float64\n",
      "values:\n",
      "[[3.14 3.14 3.14 3.14 3.14]\n",
      " [3.14 3.14 3.14 3.14 3.14]\n",
      " [3.14 3.14 3.14 3.14 3.14]]\n",
      "\n"
     ]
    }
   ],
   "metadata": {
    "collapsed": false
   }
  },
  {
   "cell_type": "code",
   "execution_count": 12,
   "source": [
    "my_np_array = np.arange(start=0, stop=20, step=2)\n",
    "array_info(my_np_array)"
   ],
   "outputs": [
    {
     "output_type": "stream",
     "name": "stdout",
     "text": [
      "ndim: 1\n",
      "shape: (10,)\n",
      "size: 10\n",
      "dtype: int64\n",
      "values:\n",
      "[ 0  2  4  6  8 10 12 14 16 18]\n",
      "\n"
     ]
    }
   ],
   "metadata": {
    "collapsed": false
   }
  },
  {
   "cell_type": "code",
   "execution_count": 13,
   "source": [
    "my_np_array = np.linspace(start=0, stop=1, num=5)\n",
    "array_info(my_np_array)"
   ],
   "outputs": [
    {
     "output_type": "stream",
     "name": "stdout",
     "text": [
      "ndim: 1\n",
      "shape: (5,)\n",
      "size: 5\n",
      "dtype: float64\n",
      "values:\n",
      "[0.   0.25 0.5  0.75 1.  ]\n",
      "\n"
     ]
    }
   ],
   "metadata": {
    "collapsed": false
   }
  },
  {
   "cell_type": "code",
   "execution_count": 14,
   "source": [
    "my_np_array = np.eye(N=3)\n",
    "array_info(my_np_array)"
   ],
   "outputs": [
    {
     "output_type": "stream",
     "name": "stdout",
     "text": [
      "ndim: 2\n",
      "shape: (3, 3)\n",
      "size: 9\n",
      "dtype: float64\n",
      "values:\n",
      "[[1. 0. 0.]\n",
      " [0. 1. 0.]\n",
      " [0. 0. 1.]]\n",
      "\n"
     ]
    }
   ],
   "metadata": {
    "collapsed": false
   }
  },
  {
   "cell_type": "code",
   "execution_count": 15,
   "source": [
    "my_np_array = np.diag([1, 2, 3])\n",
    "array_info(my_np_array)"
   ],
   "outputs": [
    {
     "output_type": "stream",
     "name": "stdout",
     "text": [
      "ndim: 2\n",
      "shape: (3, 3)\n",
      "size: 9\n",
      "dtype: int64\n",
      "values:\n",
      "[[1 0 0]\n",
      " [0 2 0]\n",
      " [0 0 3]]\n",
      "\n"
     ]
    }
   ],
   "metadata": {}
  },
  {
   "cell_type": "markdown",
   "source": [
    "## Random Functions"
   ],
   "metadata": {}
  },
  {
   "cell_type": "code",
   "execution_count": 16,
   "source": [
    "my_np_array = np.random.randint(low=0, high=10, size=(3, 3))\n",
    "array_info(my_np_array)"
   ],
   "outputs": [
    {
     "output_type": "stream",
     "name": "stdout",
     "text": [
      "ndim: 2\n",
      "shape: (3, 3)\n",
      "size: 9\n",
      "dtype: int64\n",
      "values:\n",
      "[[6 3 0]\n",
      " [4 0 1]\n",
      " [3 4 0]]\n",
      "\n"
     ]
    }
   ],
   "metadata": {
    "collapsed": false
   }
  },
  {
   "cell_type": "code",
   "execution_count": 17,
   "source": [
    "my_np_array = np.random.random(size=(3, 3))\n",
    "array_info(my_np_array)"
   ],
   "outputs": [
    {
     "output_type": "stream",
     "name": "stdout",
     "text": [
      "ndim: 2\n",
      "shape: (3, 3)\n",
      "size: 9\n",
      "dtype: float64\n",
      "values:\n",
      "[[0.98289302 0.76638992 0.75550304]\n",
      " [0.57653147 0.8354745  0.90016072]\n",
      " [0.92805314 0.98848567 0.90530133]]\n",
      "\n"
     ]
    }
   ],
   "metadata": {
    "collapsed": false
   }
  }
 ],
 "metadata": {
  "anaconda-cloud": {},
  "kernelspec": {
   "name": "python38164bitpyudemyconda8c705f49a8e643418ce4b1ca64c8ab63",
   "display_name": "Python 3.8.5 64-bit ('pyUdemy': conda)"
  },
  "language_info": {
   "codemirror_mode": {
    "name": "ipython",
    "version": 3
   },
   "file_extension": ".py",
   "mimetype": "text/x-python",
   "name": "python",
   "nbconvert_exporter": "python",
   "pygments_lexer": "ipython3",
   "version": "3.8.5"
  },
  "metadata": {
   "interpreter": {
    "hash": "423c48e3256333a0e0252f1efeec30283ab6ba0213e3a05c32b0541c29f89950"
   }
  }
 },
 "nbformat": 4,
 "nbformat_minor": 2
}